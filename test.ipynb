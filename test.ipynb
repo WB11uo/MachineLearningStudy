{
 "cells": [
  {
   "cell_type": "code",
   "execution_count": 1,
   "metadata": {
    "collapsed": true
   },
   "outputs": [],
   "source": [
    "import numpy as np\n",
    "import matplotlib.pyplot as plt"
   ]
  },
  {
   "cell_type": "code",
   "execution_count": 11,
   "metadata": {},
   "outputs": [
    {
     "data": {
      "text/plain": [
       "array([[-0.06005814],\n       [-0.2265219 ],\n       [ 2.3053787 ],\n       [-1.19832571],\n       [-0.72024063],\n       [ 1.10720465],\n       [ 0.30547172],\n       [-2.24135831],\n       [ 2.36860247],\n       [ 2.70524966],\n       [ 1.63707179],\n       [-0.33378178],\n       [ 2.59833783],\n       [ 0.39032453],\n       [-2.46622267],\n       [-2.43160102],\n       [ 0.17397136],\n       [ 2.83603332],\n       [ 0.35285141],\n       [ 2.84580732],\n       [-2.01597727],\n       [ 0.85629328],\n       [-0.95744012],\n       [ 2.59252326],\n       [ 0.70098237],\n       [-0.13164405],\n       [ 2.01023217],\n       [-0.64393826],\n       [ 2.74677125],\n       [-1.57039513],\n       [ 1.68180762],\n       [ 0.87506523],\n       [ 2.57280334],\n       [ 1.18864467],\n       [-0.55628977],\n       [ 1.75917907],\n       [-2.01753456],\n       [ 2.23339342],\n       [-0.47887035],\n       [-1.22409986],\n       [ 2.95469478],\n       [-2.23319603],\n       [-1.33347504],\n       [-2.56992041],\n       [-1.50309723],\n       [ 1.83475057],\n       [-0.21552014],\n       [ 1.57805541],\n       [ 0.22474134],\n       [-2.78711817],\n       [ 1.80072183],\n       [-0.27141856],\n       [ 0.68581203],\n       [ 1.16098189],\n       [-1.58322948],\n       [ 1.14960293],\n       [-0.52262427],\n       [-2.68250398],\n       [-1.06822529],\n       [ 1.76189402],\n       [ 0.21585788],\n       [ 2.23753877],\n       [ 0.86101732],\n       [-2.38227134],\n       [ 1.27010721],\n       [ 0.38435206],\n       [ 1.47380882],\n       [ 2.72643717],\n       [-2.23861475],\n       [-1.9457656 ],\n       [-1.20446898],\n       [ 2.12904975],\n       [ 2.07588163],\n       [ 2.22937511],\n       [ 0.9556361 ],\n       [ 2.48908242],\n       [ 2.08697606],\n       [-0.78772119],\n       [ 2.61277943],\n       [-1.12702589],\n       [ 2.16860795],\n       [-2.14837496],\n       [-0.05906094],\n       [ 2.03935434],\n       [-1.08011435],\n       [-0.81730196],\n       [-2.79822909],\n       [ 1.26286884],\n       [-1.23823764],\n       [ 0.25939124],\n       [-2.80437092],\n       [ 0.98569259],\n       [-0.75339416],\n       [-1.47948067],\n       [ 1.53967319],\n       [ 1.59870438],\n       [-1.02147506],\n       [ 0.79967885],\n       [-2.98728223],\n       [ 0.37851434]])"
      ]
     },
     "execution_count": 11,
     "metadata": {},
     "output_type": "execute_result"
    }
   ],
   "source": [
    "x=np.random.uniform(-3,3,size=100)\n",
    "X=x.reshape(-1,1)\n",
    "X"
   ]
  },
  {
   "cell_type": "code",
   "execution_count": 12,
   "metadata": {},
   "outputs": [
    {
     "data": {
      "image/png": "[encoded data removed]",
      "text/plain": [
       "<Figure size 432x288 with 1 Axes>"
      ]
     },
     "metadata": {},
     "output_type": "display_data"
    }
   ],
   "source": [
    "y=0.5*x**2+x+2+np.random.normal(0,1,100)\n",
    "plt.scatter(X,y)\n",
    "plt.show()"
   ]
  },
  {
   "cell_type": "code",
   "execution_count": null,
   "metadata": {},
   "outputs": [],
   "source": []
  }
 ],
 "metadata": {
  "kernelspec": {
   "display_name": "Python 2",
   "language": "python",
   "name": "python2"
  },
  "language_info": {
   "codemirror_mode": {
    "name": "ipython",
    "version": 2
   },
   "file_extension": ".py",
   "mimetype": "text/x-python",
   "name": "python",
   "nbconvert_exporter": "python",
   "pygments_lexer": "ipython2",
   "version": "2.7.6"
  }
 },
 "nbformat": 4,
 "nbformat_minor": 0
}
