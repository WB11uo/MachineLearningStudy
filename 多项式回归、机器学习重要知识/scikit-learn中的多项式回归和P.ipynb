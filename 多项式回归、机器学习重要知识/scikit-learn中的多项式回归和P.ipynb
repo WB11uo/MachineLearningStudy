{
 "cells": [
  {
   "cell_type": "code",
   "execution_count": 2,
   "metadata": {
    "collapsed": true
   },
   "outputs": [],
   "source": [
    "import numpy as np\n",
    "import matplotlib.pyplot as plt"
   ]
  },
  {
   "cell_type": "code",
   "execution_count": 3,
   "metadata": {},
   "outputs": [],
   "source": [
    "x=np.random.uniform(-3,3,size=100)\n",
    "X=x.reshape(-1,1)\n",
    "y=0.5*x**2+x+2+np.random.normal(0,1,100)"
   ]
  },
  {
   "cell_type": "code",
   "execution_count": 6,
   "metadata": {},
   "outputs": [],
   "source": [
    "from sklearn.preprocessing import PolynomialFeatures #"
   ]
  },
  {
   "cell_type": "code",
   "execution_count": 7,
   "metadata": {},
   "outputs": [],
   "source": [
    "poly=PolynomialFeatures(degree=2)\n",
    "poly.fit(X)\n",
    "X2=poly.transform(X)"
   ]
  },
  {
   "cell_type": "code",
   "execution_count": 8,
   "metadata": {},
   "outputs": [
    {
     "data": {
      "text/plain": [
       "(100L, 3L)"
      ]
     },
     "execution_count": 8,
     "metadata": {},
     "output_type": "execute_result"
    }
   ],
   "source": [
    "X2.shape"
   ]
  },
  {
   "cell_type": "code",
   "execution_count": 9,
   "metadata": {},
   "outputs": [
    {
     "data": {
      "text/plain": [
       "array([[ 1.        ,  2.99620593,  8.97724997],\n       [ 1.        ,  2.32921327,  5.42523446],\n       [ 1.        , -0.23179705,  0.05372987],\n       [ 1.        , -1.21222112,  1.46948005],\n       [ 1.        ,  2.45048318,  6.00486781]])"
      ]
     },
     "execution_count": 9,
     "metadata": {},
     "output_type": "execute_result"
    }
   ],
   "source": [
    "X2[:5,:]"
   ]
  },
  {
   "cell_type": "code",
   "execution_count": 10,
   "metadata": {},
   "outputs": [
    {
     "data": {
      "text/plain": [
       "array([[ 2.99620593],\n       [ 2.32921327],\n       [-0.23179705],\n       [-1.21222112],\n       [ 2.45048318]])"
      ]
     },
     "execution_count": 10,
     "metadata": {},
     "output_type": "execute_result"
    }
   ],
   "source": [
    "X[:5,:]"
   ]
  },
  {
   "cell_type": "code",
   "execution_count": 11,
   "metadata": {},
   "outputs": [],
   "source": [
    "from sklearn.linear_model import LinearRegression\n",
    "lin_reg=LinearRegression()\n",
    "lin_reg.fit(X2,y)\n",
    "y_predict=lin_reg.predict(X2)"
   ]
  },
  {
   "cell_type": "code",
   "execution_count": 12,
   "metadata": {},
   "outputs": [
    {
     "data": {
      "image/png": "[encoded data removed]",
      "text/plain": [
       "<Figure size 432x288 with 1 Axes>"
      ]
     },
     "metadata": {},
     "output_type": "display_data"
    }
   ],
   "source": [
    "plt.scatter(x,y)\n",
    "plt.plot(np.sort(x),y_predict[np.argsort(x)],color='r')\n",
    "plt.show()"
   ]
  },
  {
   "cell_type": "code",
   "execution_count": 13,
   "metadata": {},
   "outputs": [
    {
     "data": {
      "text/plain": [
       "array([0.        , 1.00917455, 0.47222774])"
      ]
     },
     "execution_count": 13,
     "metadata": {},
     "output_type": "execute_result"
    }
   ],
   "source": [
    "lin_reg.coef_"
   ]
  },
  {
   "cell_type": "code",
   "execution_count": 14,
   "metadata": {},
   "outputs": [
    {
     "data": {
      "text/plain": [
       "1.9652377640561187"
      ]
     },
     "execution_count": 14,
     "metadata": {},
     "output_type": "execute_result"
    }
   ],
   "source": [
    "lin_reg.intercept_"
   ]
  },
  {
   "cell_type": "code",
   "execution_count": 15,
   "metadata": {},
   "outputs": [],
   "source": [
    "##########################分割线##################################"
   ]
  },
  {
   "cell_type": "code",
   "execution_count": 16,
   "metadata": {},
   "outputs": [
    {
     "data": {
      "text/plain": [
       "array([[ 1,  2],\n       [ 3,  4],\n       [ 5,  6],\n       [ 7,  8],\n       [ 9, 10]])"
      ]
     },
     "execution_count": 16,
     "metadata": {},
     "output_type": "execute_result"
    }
   ],
   "source": [
    "X=np.arange(1,11).reshape(-1,2)\n",
    "X"
   ]
  },
  {
   "cell_type": "code",
   "execution_count": 17,
   "metadata": {},
   "outputs": [],
   "source": [
    "poly=PolynomialFeatures(degree=2)\n",
    "poly.fit(X)\n",
    "X2=poly.transform(X)"
   ]
  },
  {
   "cell_type": "code",
   "execution_count": 18,
   "metadata": {},
   "outputs": [
    {
     "data": {
      "text/plain": [
       "array([[  1.,   1.,   2.,   1.,   2.,   4.],\n       [  1.,   3.,   4.,   9.,  12.,  16.],\n       [  1.,   5.,   6.,  25.,  30.,  36.],\n       [  1.,   7.,   8.,  49.,  56.,  64.],\n       [  1.,   9.,  10.,  81.,  90., 100.]])"
      ]
     },
     "execution_count": 18,
     "metadata": {},
     "output_type": "execute_result"
    }
   ],
   "source": [
    "X2"
   ]
  },
  {
   "cell_type": "code",
   "execution_count": 19,
   "metadata": {},
   "outputs": [],
   "source": [
    "poly=PolynomialFeatures(degree=3)\n",
    "poly.fit(X)\n",
    "X3=poly.transform(X)"
   ]
  },
  {
   "cell_type": "code",
   "execution_count": 20,
   "metadata": {},
   "outputs": [
    {
     "data": {
      "text/plain": [
       "array([[   1.,    1.,    2.,    1.,    2.,    4.,    1.,    2.,    4.,\n           8.],\n       [   1.,    3.,    4.,    9.,   12.,   16.,   27.,   36.,   48.,\n          64.],\n       [   1.,    5.,    6.,   25.,   30.,   36.,  125.,  150.,  180.,\n         216.],\n       [   1.,    7.,    8.,   49.,   56.,   64.,  343.,  392.,  448.,\n         512.],\n       [   1.,    9.,   10.,   81.,   90.,  100.,  729.,  810.,  900.,\n        1000.]])"
      ]
     },
     "execution_count": 20,
     "metadata": {},
     "output_type": "execute_result"
    }
   ],
   "source": [
    "X3"
   ]
  },
  {
   "cell_type": "code",
   "execution_count": 34,
   "metadata": {},
   "outputs": [
    {
     "data": {
      "text/plain": [
       "array([3.77879573, 4.22824961, 1.80884179, 1.03443999, 3.17751469,\n       4.7850854 , 3.68368855, 3.19399305, 5.46640388, 3.69015075,\n       6.73687686, 2.74773277, 3.22318865, 0.60607465, 1.88933774,\n       3.01685604, 6.28189798, 4.57739138, 1.93058362, 1.28504995,\n       8.11958332, 4.41019007, 0.59582151, 3.052109  , 1.79730032,\n       2.48446051, 4.00222607, 5.45227264, 0.52426008, 1.60980889,\n       4.37832305, 6.46262845, 1.69668779, 1.65692252, 5.96238916,\n       1.8266004 , 8.8866516 , 5.16955224, 0.6996852 , 2.30446614,\n       2.56173966, 2.85457457, 4.48488237, 3.27391037, 2.2820782 ,\n       9.67943416, 3.12639323, 6.26967822, 3.33866441, 3.0732108 ,\n       1.47866793, 2.43261257, 2.01345868, 2.6361688 , 2.27637195,\n       4.0816406 , 3.41008016, 7.39095993, 5.0259603 , 0.635881  ,\n       5.22112533, 0.85650062, 2.30042758, 1.25387701, 4.11547077,\n       0.83776248, 3.4059961 , 2.76015014, 5.06470417, 5.73282783,\n       0.09528446, 6.96470197, 8.35114698, 1.32399744, 1.83964374,\n       0.61275925, 6.26088357, 2.80357246, 1.79358366, 0.75518813,\n       8.37947241, 0.98397362, 1.82658854, 2.598148  , 3.44996721,\n       3.42671248, 6.73217871, 0.95734932, 3.66510226, 3.09403514,\n       1.93540796, 1.76397495, 2.15476653, 2.33665143, 6.16479413,\n       2.86691509, 7.99777853, 2.18196215, 1.90894095, 2.22183123])"
      ]
     },
     "execution_count": 34,
     "metadata": {},
     "output_type": "execute_result"
    }
   ],
   "source": [
    "#pipeline\n",
    "x=np.random.uniform(-3,3,size=100)\n",
    "X=x.reshape(-1,1)\n",
    "y=0.5*x**2+x+2+np.random.normal(0,1,100)"
   ]
  },
  {
   "cell_type": "code",
   "execution_count": 22,
   "metadata": {},
   "outputs": [],
   "source": [
    "from sklearn.pipeline import  Pipeline\n",
    "from sklearn.preprocessing import StandardScaler\n",
    "poly_reg=Pipeline([\n",
    "    (\"poly\",PolynomialFeatures(degree=2)),\n",
    "    (\"std_scaler\",StandardScaler()),\n",
    "    (\"lin_reg\",LinearRegression())\n",
    "])"
   ]
  },
  {
   "cell_type": "code",
   "execution_count": 23,
   "metadata": {},
   "outputs": [
    {
     "data": {
      "text/plain": [
       "Pipeline(memory=None,\n     steps=[('poly', PolynomialFeatures(degree=2, include_bias=True, interaction_only=False)), ('std_scaler', StandardScaler(copy=True, with_mean=True, with_std=True)), ('lin_reg', LinearRegression(copy_X=True, fit_intercept=True, n_jobs=None,\n         normalize=False))])"
      ]
     },
     "execution_count": 23,
     "metadata": {},
     "output_type": "execute_result"
    }
   ],
   "source": [
    "poly_reg.fit(X,y)"
   ]
  },
  {
   "cell_type": "code",
   "execution_count": 24,
   "metadata": {},
   "outputs": [],
   "source": [
    "y_predict=poly_reg.predict(X)"
   ]
  },
  {
   "cell_type": "code",
   "execution_count": 29,
   "metadata": {},
   "outputs": [
    {
     "data": {
      "image/png": "[encoded data removed]",
      "text/plain": [
       "<Figure size 432x288 with 1 Axes>"
      ]
     },
     "metadata": {},
     "output_type": "display_data"
    }
   ],
   "source": [
    "plt.scatter(x,y)\n",
    "plt.plot(np.sort(x),y_predict[np.argsort(x)],color='r')\n",
    "plt.show()"
   ]
  },
  {
   "cell_type": "code",
   "execution_count": null,
   "metadata": {},
   "outputs": [],
   "source": []
  }
 ],
 "metadata": {
  "kernelspec": {
   "display_name": "Python 2",
   "language": "python",
   "name": "python2"
  },
  "language_info": {
   "codemirror_mode": {
    "name": "ipython",
    "version": 2
   },
   "file_extension": ".py",
   "mimetype": "text/x-python",
   "name": "python",
   "nbconvert_exporter": "python",
   "pygments_lexer": "ipython2",
   "version": "2.7.6"
  }
 },
 "nbformat": 4,
 "nbformat_minor": 0
}
